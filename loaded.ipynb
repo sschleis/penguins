{
 "cells": [
  {
   "cell_type": "code",
   "id": "initial_id",
   "metadata": {
    "collapsed": true,
    "ExecuteTime": {
     "end_time": "2025-06-24T21:03:16.208767Z",
     "start_time": "2025-06-24T21:03:16.206844Z"
    }
   },
   "source": [
    "from joblib import load\n",
    "import pandas as pd\n",
    "from sklearn.model_selection import train_test_split\n",
    "from sklearn.metrics import accuracy_score\n",
    "\n"
   ],
   "outputs": [],
   "execution_count": 8
  },
  {
   "metadata": {
    "ExecuteTime": {
     "end_time": "2025-06-24T21:03:16.225414Z",
     "start_time": "2025-06-24T21:03:16.218600Z"
    }
   },
   "cell_type": "code",
   "source": [
    "df = pd.read_csv(\"penguins.csv\")\n",
    "seed = 3454\n",
    "df = df.dropna()\n",
    "df = df.drop([\"island\", \"sex\"], axis = 1)\n",
    "X = df.drop(\"species\", axis = 1)\n",
    "y = df[\"species\"]\n",
    "X_train, X_test, y_train, y_test = train_test_split(X, y, test_size=0.2, random_state=seed)"
   ],
   "id": "5fff732a9ffeb2a8",
   "outputs": [],
   "execution_count": 9
  },
  {
   "metadata": {
    "ExecuteTime": {
     "end_time": "2025-06-24T21:03:16.243755Z",
     "start_time": "2025-06-24T21:03:16.238265Z"
    }
   },
   "cell_type": "code",
   "source": "loaded_model = load('knn_model.joblib')\n",
   "id": "6cd4c21f5498dcdb",
   "outputs": [],
   "execution_count": 10
  },
  {
   "metadata": {
    "ExecuteTime": {
     "end_time": "2025-06-24T21:03:16.265155Z",
     "start_time": "2025-06-24T21:03:16.258255Z"
    }
   },
   "cell_type": "code",
   "source": [
    "predictions = loaded_model.predict(X_test)\n",
    "acc = accuracy_score(predictions, y_test)"
   ],
   "id": "ba9c2bf0ceef8399",
   "outputs": [],
   "execution_count": 11
  }
 ],
 "metadata": {
  "kernelspec": {
   "display_name": "Python 3",
   "language": "python",
   "name": "python3"
  },
  "language_info": {
   "codemirror_mode": {
    "name": "ipython",
    "version": 2
   },
   "file_extension": ".py",
   "mimetype": "text/x-python",
   "name": "python",
   "nbconvert_exporter": "python",
   "pygments_lexer": "ipython2",
   "version": "2.7.6"
  }
 },
 "nbformat": 4,
 "nbformat_minor": 5
}
